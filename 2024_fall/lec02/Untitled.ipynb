{
 "cells": [
  {
   "cell_type": "code",
   "execution_count": 1,
   "id": "20ac6c0e-afee-4e73-90f8-5bb6b9e1b8f5",
   "metadata": {},
   "outputs": [],
   "source": [
    "import homework2"
   ]
  },
  {
   "cell_type": "code",
   "execution_count": 2,
   "id": "e126656b-f9b1-429b-aaf9-b8bbf0ac184a",
   "metadata": {},
   "outputs": [
    {
     "name": "stderr",
     "output_type": "stream",
     "text": [
      "..........F\n",
      "======================================================================\n",
      "FAIL: test_k (grade.Test.test_k)\n",
      "----------------------------------------------------------------------\n",
      "Traceback (most recent call last):\n",
      "  File \"C:\\Users\\wjchi1\\Jupyter lab\\2024_fall\\lec02\\grade.py\", line 60, in test_k\n",
      "    self.assertEqual(homework2.k,k,\"You said k==%s, but either you missed some valid names, or you included some names that are not valid\"%(homework2.k))\n",
      "AssertionError: 'global_squ' != 'print2_squ'\n",
      "- global_squ\n",
      "+ print2_squ\n",
      " : You said k==global_squ, but either you missed some valid names, or you included some names that are not valid\n",
      "\n",
      "----------------------------------------------------------------------\n",
      "Ran 11 tests in 0.005s\n",
      "\n",
      "FAILED (failures=1)\n"
     ]
    },
    {
     "name": "stdout",
     "output_type": "stream",
     "text": [
      "10 successes out of 11 tests run\n",
      "Score: 90%\n"
     ]
    }
   ],
   "source": [
    "import grade"
   ]
  },
  {
   "cell_type": "code",
   "execution_count": null,
   "id": "24830e35-af0d-45bd-9534-05f21b808c1d",
   "metadata": {},
   "outputs": [],
   "source": []
  }
 ],
 "metadata": {
  "kernelspec": {
   "display_name": "Python 3 (ipykernel)",
   "language": "python",
   "name": "python3"
  },
  "language_info": {
   "codemirror_mode": {
    "name": "ipython",
    "version": 3
   },
   "file_extension": ".py",
   "mimetype": "text/x-python",
   "name": "python",
   "nbconvert_exporter": "python",
   "pygments_lexer": "ipython3",
   "version": "3.11.7"
  }
 },
 "nbformat": 4,
 "nbformat_minor": 5
}
